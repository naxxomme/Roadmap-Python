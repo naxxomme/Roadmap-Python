{
 "cells": [
  {
   "cell_type": "markdown",
   "id": "b90dc4ef-9022-4b1a-974b-758a55de4cd4",
   "metadata": {},
   "source": [
    "## Ejercicio:\n",
    "Muestra ejemplos de todas las operaciones que puedas realizar con cadenas de caracteres <br>\n",
    "en tu lenguaje. Algunas de estas operaciones podrían ser:<br>\n",
    "- Acceso a caracteres específicos, subcadenas, longitud, concatenación, repetición,<br>\n",
    "recorrido, conversión a mayúsculas y minúsculas, reemplazo, división, unión,<br>\n",
    "interpolación, verificación..."
   ]
  },
  {
   "cell_type": "code",
   "execution_count": 1,
   "id": "0790888c-0013-4a0c-a3db-1b29745a4100",
   "metadata": {
    "tags": []
   },
   "outputs": [],
   "source": [
    "s1 = \"Hola\"\n",
    "s2 = \"Python\""
   ]
  },
  {
   "cell_type": "code",
   "execution_count": 2,
   "id": "c5984d94-3a7b-434d-b4ab-e29a64e2e628",
   "metadata": {
    "tags": []
   },
   "outputs": [
    {
     "name": "stdout",
     "output_type": "stream",
     "text": [
      "Hola, Python!\n"
     ]
    }
   ],
   "source": [
    "# Concatenación\n",
    "print(s1 + \", \" + s2 + \"!\")"
   ]
  },
  {
   "cell_type": "code",
   "execution_count": 3,
   "id": "8424eac5-f013-4608-bf73-6c36435edcd1",
   "metadata": {
    "tags": []
   },
   "outputs": [
    {
     "name": "stdout",
     "output_type": "stream",
     "text": [
      "HolaHolaHola\n"
     ]
    }
   ],
   "source": [
    "# Repetición\n",
    "print(s1 * 3)"
   ]
  },
  {
   "cell_type": "code",
   "execution_count": 4,
   "id": "7d202e64-218f-479c-acdc-90431d7a21db",
   "metadata": {
    "tags": []
   },
   "outputs": [
    {
     "name": "stdout",
     "output_type": "stream",
     "text": [
      "Hola\n"
     ]
    }
   ],
   "source": [
    "# Indexación\n",
    "print(s1[0] + s1[1] + s1[2] + s1[3])"
   ]
  },
  {
   "cell_type": "code",
   "execution_count": 5,
   "id": "72d08b95-39a4-4ac1-817d-d5b539469b57",
   "metadata": {
    "tags": []
   },
   "outputs": [
    {
     "name": "stdout",
     "output_type": "stream",
     "text": [
      "6\n"
     ]
    }
   ],
   "source": [
    "# Longitud\n",
    "print(len(s2))"
   ]
  },
  {
   "cell_type": "code",
   "execution_count": 6,
   "id": "a49fb4fc-de20-4124-8c3c-9213e07fb925",
   "metadata": {
    "tags": []
   },
   "outputs": [
    {
     "name": "stdout",
     "output_type": "stream",
     "text": [
      "thon\n",
      "thon\n",
      "Py\n",
      "Py\n"
     ]
    }
   ],
   "source": [
    "# Slicing (porción)\n",
    "print(s2[2:6])\n",
    "print(s2[2:])\n",
    "print(s2[0:2])\n",
    "print(s2[:2])"
   ]
  },
  {
   "cell_type": "code",
   "execution_count": 7,
   "id": "c1a64b5f-3b09-479c-8a67-51a2a01787ba",
   "metadata": {
    "tags": []
   },
   "outputs": [
    {
     "name": "stdout",
     "output_type": "stream",
     "text": [
      "True\n",
      "False\n"
     ]
    }
   ],
   "source": [
    "# Búsqueda\n",
    "print(\"a\" in s1)\n",
    "print(\"i\" in s1)"
   ]
  },
  {
   "cell_type": "code",
   "execution_count": 8,
   "id": "92333e42-8202-4b54-92f9-148f4349f74e",
   "metadata": {
    "tags": []
   },
   "outputs": [
    {
     "name": "stdout",
     "output_type": "stream",
     "text": [
      "Hala\n"
     ]
    }
   ],
   "source": [
    "# Reemplazo\n",
    "print(s1.replace(\"o\", \"a\"))"
   ]
  },
  {
   "cell_type": "code",
   "execution_count": 9,
   "id": "975def51-59b9-445c-8189-b411515888e2",
   "metadata": {
    "tags": []
   },
   "outputs": [
    {
     "name": "stdout",
     "output_type": "stream",
     "text": [
      "['Py', 'hon']\n"
     ]
    }
   ],
   "source": [
    "# División\n",
    "print(s2.split(\"t\"))"
   ]
  },
  {
   "cell_type": "code",
   "execution_count": 10,
   "id": "3fdbfdc5-318f-4433-8250-d180dd995fd3",
   "metadata": {
    "tags": []
   },
   "outputs": [
    {
     "name": "stdout",
     "output_type": "stream",
     "text": [
      "HOLA\n",
      "hola\n",
      "Brais Moure\n",
      "Brais moure\n"
     ]
    }
   ],
   "source": [
    "# Mayúsculas, minúsculas y letras en mayúsculas\n",
    "print(s1.upper())\n",
    "print(s1.lower())\n",
    "print(\"adrian arroyo\".title())\n",
    "print(\"adrian arroyo\".capitalize())"
   ]
  },
  {
   "cell_type": "code",
   "execution_count": 11,
   "id": "11db87b6-fed4-4c52-b9e5-794824ee7274",
   "metadata": {
    "tags": []
   },
   "outputs": [
    {
     "name": "stdout",
     "output_type": "stream",
     "text": [
      "adrian arroyo\n"
     ]
    }
   ],
   "source": [
    "# Eliminación de espacios al principio y al final\n",
    "print(\" adrian arroyo \".strip())"
   ]
  },
  {
   "cell_type": "code",
   "execution_count": 12,
   "id": "66c576b3-544c-4024-a8ea-c2046b9ad4de",
   "metadata": {
    "tags": []
   },
   "outputs": [
    {
     "name": "stdout",
     "output_type": "stream",
     "text": [
      "True\n",
      "False\n",
      "True\n",
      "False\n"
     ]
    }
   ],
   "source": [
    "# Búsqueda al principio y al final\n",
    "print(s1.startswith(\"Ho\"))\n",
    "print(s1.startswith(\"Py\"))\n",
    "print(s1.endswith(\"la\"))\n",
    "print(s1.endswith(\"thon\"))"
   ]
  },
  {
   "cell_type": "code",
   "execution_count": 15,
   "id": "636d4c0e-d599-4dbd-8a14-d669ff148192",
   "metadata": {
    "tags": []
   },
   "outputs": [],
   "source": [
    "s3 = \"Brais Moure @mouredev\""
   ]
  },
  {
   "cell_type": "code",
   "execution_count": 16,
   "id": "6fcc504f-4698-4f76-8f25-ed737a3abc51",
   "metadata": {
    "tags": []
   },
   "outputs": [
    {
     "name": "stdout",
     "output_type": "stream",
     "text": [
      "13\n",
      "6\n",
      "6\n",
      "6\n"
     ]
    }
   ],
   "source": [
    "# Búsqueda de posición\n",
    "print(s3.find(\"moure\"))\n",
    "print(s3.find(\"Moure\"))\n",
    "print(s3.find(\"M\"))\n",
    "print(s3.lower().find(\"m\"))"
   ]
  },
  {
   "cell_type": "code",
   "execution_count": 17,
   "id": "ca534f5d-11f2-4c44-8485-989ecfe721df",
   "metadata": {
    "tags": []
   },
   "outputs": [
    {
     "name": "stdout",
     "output_type": "stream",
     "text": [
      "2\n"
     ]
    }
   ],
   "source": [
    "# Búsqueda de ocurrencias\n",
    "print(s3.lower().count(\"m\"))"
   ]
  },
  {
   "cell_type": "code",
   "execution_count": 18,
   "id": "dd30558b-bccc-45af-83de-2050c7a5f77b",
   "metadata": {
    "tags": []
   },
   "outputs": [
    {
     "name": "stdout",
     "output_type": "stream",
     "text": [
      "Saludo: Hola, lenguje: Python!\n"
     ]
    }
   ],
   "source": [
    "# Formateo\n",
    "print(\"Saludo: {}, lenguje: {}!\".format(s1, s2))"
   ]
  },
  {
   "cell_type": "code",
   "execution_count": 19,
   "id": "78b5524c-1a94-4496-80d0-779138ba61b7",
   "metadata": {
    "tags": []
   },
   "outputs": [
    {
     "name": "stdout",
     "output_type": "stream",
     "text": [
      "Saludo: Hola, lenguje: Python!\n"
     ]
    }
   ],
   "source": [
    "# Interpolación\n",
    "print(f\"Saludo: {s1}, lenguje: {s2}!\")"
   ]
  },
  {
   "cell_type": "code",
   "execution_count": 20,
   "id": "3761bc03-6db9-4176-b7c2-806d5ce7df2e",
   "metadata": {
    "tags": []
   },
   "outputs": [
    {
     "name": "stdout",
     "output_type": "stream",
     "text": [
      "['B', 'r', 'a', 'i', 's', ' ', 'M', 'o', 'u', 'r', 'e', ' ', '@', 'm', 'o', 'u', 'r', 'e', 'd', 'e', 'v']\n"
     ]
    }
   ],
   "source": [
    "# Tranformación en lista de caracteres\n",
    "print(list(s3))"
   ]
  },
  {
   "cell_type": "code",
   "execution_count": 21,
   "id": "a026a5b1-5821-4538-8801-e442b78e8e10",
   "metadata": {
    "tags": []
   },
   "outputs": [
    {
     "name": "stdout",
     "output_type": "stream",
     "text": [
      "Hola, Python!\n"
     ]
    }
   ],
   "source": [
    "# Transformación de lista en cadena\n",
    "l1 = [s1, \", \", s2, \"!\"]\n",
    "print(\"\".join(l1))"
   ]
  },
  {
   "cell_type": "code",
   "execution_count": 22,
   "id": "391bd6cf-f838-4d9c-be2d-2c5b2ed899f4",
   "metadata": {
    "tags": []
   },
   "outputs": [
    {
     "name": "stdout",
     "output_type": "stream",
     "text": [
      "123456\n"
     ]
    }
   ],
   "source": [
    "# Transformaciones numéricas\n",
    "s4 = \"123456\"\n",
    "s4 = int(s4)\n",
    "print(s4)"
   ]
  },
  {
   "cell_type": "code",
   "execution_count": 23,
   "id": "15733fdc-79f3-43c3-8d29-031f38a2265c",
   "metadata": {
    "tags": []
   },
   "outputs": [
    {
     "name": "stdout",
     "output_type": "stream",
     "text": [
      "123456.123\n"
     ]
    }
   ],
   "source": [
    "s5 = \"123456.123\"\n",
    "s5 = float(s5)\n",
    "print(s5)"
   ]
  },
  {
   "cell_type": "code",
   "execution_count": 24,
   "id": "f4d4468c-e186-4e38-8b06-50d20f325789",
   "metadata": {
    "tags": []
   },
   "outputs": [
    {
     "name": "stdout",
     "output_type": "stream",
     "text": [
      "True\n",
      "True\n",
      "False\n",
      "True\n"
     ]
    }
   ],
   "source": [
    "# Comprobaciones varias\n",
    "s4 = \"123456\"\n",
    "print(s1.isalnum())\n",
    "print(s1.isalpha())\n",
    "print(s4.isalpha())\n",
    "print(s4.isnumeric())"
   ]
  },
  {
   "cell_type": "markdown",
   "id": "66bbe8f6-8a12-4dd6-bf52-edb7b0c8eae6",
   "metadata": {},
   "source": [
    "## Ejercicio Extra:\n",
    "Crea un programa que analice dos palabras diferentes y realice comprobaciones para describir si son:\n",
    "- Palíndromos\n",
    "- Anagramas\n",
    "- Isogramas"
   ]
  },
  {
   "cell_type": "code",
   "execution_count": 25,
   "id": "bec7d564-6327-4893-aa9e-9659e540b783",
   "metadata": {
    "tags": []
   },
   "outputs": [],
   "source": [
    "def check(word1: str, word2: str):\n",
    "\n",
    "    # Palíndromos\n",
    "    print(f\"¿{word1} es un palíndromo?: {word1 == word1[::-1]}\")\n",
    "    print(f\"¿{word2} es un palíndromo?: {word2 == word2[::-1]}\")\n",
    "\n",
    "    # Anagramas\n",
    "    print(f\"¿{word1} es anagrama de {word2}?: {sorted(word1) == sorted(word2)}\")\n",
    "\n",
    "    # Isogramas\n",
    "\n",
    "    def isogram(word: str) -> bool:\n",
    "\n",
    "        word_dict = dict()\n",
    "        for character in word:\n",
    "            word_dict[character] = word_dict.get(character, 0) + 1\n",
    "\n",
    "        isogram = True\n",
    "        values = list(word_dict.values())\n",
    "        isogram_len = values[0]\n",
    "        for word_count in values:\n",
    "            if word_count != isogram_len:\n",
    "                isogram = False\n",
    "                break\n",
    "\n",
    "        return isogram\n",
    "\n",
    "    print(f\"¿{word1} es un isograma?: {isogram(word1)}\")\n",
    "    print(f\"¿{word2} es un isograma?: {isogram(word2)}\")"
   ]
  },
  {
   "cell_type": "code",
   "execution_count": 26,
   "id": "610722d2-b4db-476a-b09e-ef29b6057b66",
   "metadata": {
    "tags": []
   },
   "outputs": [
    {
     "name": "stdout",
     "output_type": "stream",
     "text": [
      "¿radar es un palíndromo?: True\n",
      "¿pythonpythonpythonpython es un palíndromo?: False\n",
      "¿radar es anagrama de pythonpythonpythonpython?: False\n",
      "¿radar es un isograma?: False\n",
      "¿pythonpythonpythonpython es un isograma?: True\n"
     ]
    }
   ],
   "source": [
    "check(\"radar\", \"pythonpythonpythonpython\")"
   ]
  },
  {
   "cell_type": "code",
   "execution_count": 27,
   "id": "cf8add0d-d9d7-4df2-833d-76f8eacd5642",
   "metadata": {
    "tags": []
   },
   "outputs": [
    {
     "name": "stdout",
     "output_type": "stream",
     "text": [
      "¿amor es un palíndromo?: False\n",
      "¿roma es un palíndromo?: False\n",
      "¿amor es anagrama de roma?: True\n",
      "¿amor es un isograma?: True\n",
      "¿roma es un isograma?: True\n"
     ]
    }
   ],
   "source": [
    "check(\"amor\", \"roma\")"
   ]
  },
  {
   "cell_type": "code",
   "execution_count": null,
   "id": "74d37f2b-d616-4b4b-8ba6-3ce2a7264f14",
   "metadata": {},
   "outputs": [],
   "source": []
  }
 ],
 "metadata": {
  "kernelspec": {
   "display_name": "Python 3 (ipykernel)",
   "language": "python",
   "name": "python3"
  },
  "language_info": {
   "codemirror_mode": {
    "name": "ipython",
    "version": 3
   },
   "file_extension": ".py",
   "mimetype": "text/x-python",
   "name": "python",
   "nbconvert_exporter": "python",
   "pygments_lexer": "ipython3",
   "version": "3.11.5"
  }
 },
 "nbformat": 4,
 "nbformat_minor": 5
}
