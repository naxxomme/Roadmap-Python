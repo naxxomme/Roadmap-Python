{
 "cells": [
  {
   "cell_type": "markdown",
   "id": "43059865-71bc-4c45-b55c-a727b78557b8",
   "metadata": {},
   "source": [
    "## Ejercicio:\n",
    "Desarrolla un programa capaz de crear un archivo que se llame como<br>\n",
    "tu usuario de GitHub y tenga la extensión '.txt'.<br>\n",
    "Añade varias líneas en ese fichero:<br>\n",
    "- Tu nombre.\n",
    "- Edad.\n",
    "- Lenguaje de programación favorito.<br><br>\n",
    "Imprime el contenido.<br>\n",
    "Borra el fichero."
   ]
  },
  {
   "cell_type": "code",
   "execution_count": null,
   "id": "5bfcda20-6853-4e1c-a7d1-607c601f6a29",
   "metadata": {},
   "outputs": [],
   "source": []
  },
  {
   "cell_type": "markdown",
   "id": "bc9336b7-98d9-4fb0-8476-68f5cc6c30f5",
   "metadata": {},
   "source": [
    "## Extra:\n",
    "Desarrolla un programa de gestión de ventas que almacena sus datos en un<br>\n",
    "archivo '.txt'.<br>\n",
    "- Cada producto se guarda en una línea del archivo de la siguiente manera:\n",
    "nombre_producto, cantidad_vendida, precio.\n",
    "- Siguiendo ese formato, y mediante terminal, deber permitir añadrid, consultar<br>\n",
    "actualizar, eliminar productos y salir.<br>\n",
    "- También debe poseer opciones para calcular la venta total y por producto.\n",
    "- La opción salir borra el '.txt'"
   ]
  },
  {
   "cell_type": "code",
   "execution_count": null,
   "id": "c64e814c-8025-42c2-ad11-4a7be9b3f20d",
   "metadata": {},
   "outputs": [],
   "source": []
  }
 ],
 "metadata": {
  "kernelspec": {
   "display_name": "Python 3 (ipykernel)",
   "language": "python",
   "name": "python3"
  },
  "language_info": {
   "codemirror_mode": {
    "name": "ipython",
    "version": 3
   },
   "file_extension": ".py",
   "mimetype": "text/x-python",
   "name": "python",
   "nbconvert_exporter": "python",
   "pygments_lexer": "ipython3",
   "version": "3.11.5"
  }
 },
 "nbformat": 4,
 "nbformat_minor": 5
}
