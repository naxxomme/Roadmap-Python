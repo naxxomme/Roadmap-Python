{
 "cells": [
  {
   "cell_type": "markdown",
   "id": "10af4965-a1a4-4d77-8921-c79cb55e20a4",
   "metadata": {},
   "source": [
    "## Ejercicio:\n",
    "- Crea ejemplos de funciones básicas que representen las diferentes posibilidades del lenguaje:<br>\n",
    "Sin parámetros ni retorno, con uno o varios parámetros, con retorno...\n",
    "- Comprueba si puedes crear funciones dentro de funciones.\n",
    "- Utiliza algún ejemplo de funciones ya creadas en el lenguaje.\n",
    "- Pon a prueba el concepto de variable LOCAL y GLOBAL.\n",
    "- Debes hacer print por consola del resultado de todos los ejemplos."
   ]
  },
  {
   "cell_type": "markdown",
   "id": "ec98c905-8090-4bc4-b4a5-a5f200f6836b",
   "metadata": {},
   "source": [
    "#### FUNCIONES DEFINIDAS POR EL USUARIO:"
   ]
  },
  {
   "cell_type": "code",
   "execution_count": 21,
   "id": "95f34406-f1ab-47a7-a026-85c5f10bdfb3",
   "metadata": {
    "tags": []
   },
   "outputs": [],
   "source": [
    "# Simple:\n",
    "def greet():\n",
    "    print(\"Hola KOI!\")"
   ]
  },
  {
   "cell_type": "code",
   "execution_count": 22,
   "id": "94d5ee09-b13e-4111-a18b-540862ac906b",
   "metadata": {
    "tags": []
   },
   "outputs": [
    {
     "name": "stdout",
     "output_type": "stream",
     "text": [
      "Hola KOI!\n"
     ]
    }
   ],
   "source": [
    "greet()"
   ]
  },
  {
   "cell_type": "code",
   "execution_count": 23,
   "id": "2159f63c-7025-4f21-a89e-77a98884d3ea",
   "metadata": {
    "tags": []
   },
   "outputs": [],
   "source": [
    "# Con retorno:\n",
    "def return_greet():\n",
    "    return \"Hola KOI!\""
   ]
  },
  {
   "cell_type": "code",
   "execution_count": 24,
   "id": "3e091a90-725c-4406-b6b2-61f9ef6536a7",
   "metadata": {
    "tags": []
   },
   "outputs": [
    {
     "name": "stdout",
     "output_type": "stream",
     "text": [
      "Hola KOI!\n"
     ]
    }
   ],
   "source": [
    "print(return_greet())"
   ]
  },
  {
   "cell_type": "code",
   "execution_count": 25,
   "id": "fbad7761-a8dc-4b21-b85e-ed67832d13bf",
   "metadata": {
    "tags": []
   },
   "outputs": [],
   "source": [
    "# Con un argumento:\n",
    "def arg_greet(name):\n",
    "    print(f\"Hola, {name}!\")"
   ]
  },
  {
   "cell_type": "code",
   "execution_count": 26,
   "id": "b090d2d2-d49f-4bc6-a780-4b3e0c9f4bb1",
   "metadata": {
    "tags": []
   },
   "outputs": [
    {
     "name": "stdout",
     "output_type": "stream",
     "text": [
      "Hola, Naxx!\n"
     ]
    }
   ],
   "source": [
    "arg_greet(\"Naxx\")"
   ]
  },
  {
   "cell_type": "code",
   "execution_count": 27,
   "id": "81e43a5e-d58f-4863-bac4-5f1b8796b040",
   "metadata": {
    "tags": []
   },
   "outputs": [],
   "source": [
    "# Con argumentos:\n",
    "def args_greet(greet, name):\n",
    "    print(f\"{greet}, {name}!\")"
   ]
  },
  {
   "cell_type": "code",
   "execution_count": 28,
   "id": "48f4148c-0967-48e1-bd19-91af884df46f",
   "metadata": {
    "tags": []
   },
   "outputs": [
    {
     "name": "stdout",
     "output_type": "stream",
     "text": [
      "Hi, Naxx!\n",
      "Hi, Naxx!\n"
     ]
    }
   ],
   "source": [
    "args_greet(\"Hi\", \"Naxx\")\n",
    "args_greet(name=\"Naxx\", greet=\"Hi\")"
   ]
  },
  {
   "cell_type": "code",
   "execution_count": 29,
   "id": "0c2a44dc-b68c-4d4c-a03f-db346abe78b9",
   "metadata": {
    "tags": []
   },
   "outputs": [],
   "source": [
    "# Con un argumento predeterminado:\n",
    "def default_arg_greet(name=\"KOI\"):\n",
    "    print(f\"Hola, {name}!\")"
   ]
  },
  {
   "cell_type": "code",
   "execution_count": 30,
   "id": "a2d810f6-5587-4839-a5fd-c0408ca33571",
   "metadata": {
    "tags": []
   },
   "outputs": [
    {
     "name": "stdout",
     "output_type": "stream",
     "text": [
      "Hola, Naxx!\n",
      "Hola, KOI!\n"
     ]
    }
   ],
   "source": [
    "default_arg_greet(\"Naxx\")\n",
    "default_arg_greet()"
   ]
  },
  {
   "cell_type": "code",
   "execution_count": 31,
   "id": "4b1068e5-280d-425f-93c6-4220ff28a82c",
   "metadata": {
    "tags": []
   },
   "outputs": [],
   "source": [
    "# Con argumentos y return:\n",
    "def return_args_greet(greet, name):\n",
    "    return f\"{greet}, {name}!\""
   ]
  },
  {
   "cell_type": "code",
   "execution_count": 32,
   "id": "3e1265f9-cf3a-47b4-90a9-abb4ba58221f",
   "metadata": {
    "tags": []
   },
   "outputs": [
    {
     "name": "stdout",
     "output_type": "stream",
     "text": [
      "Hi, Naxx!\n"
     ]
    }
   ],
   "source": [
    "print(return_args_greet(\"Hi\", \"Naxx\"))"
   ]
  },
  {
   "cell_type": "code",
   "execution_count": 33,
   "id": "bcfb5904-ab7a-40d8-b160-961e580886b3",
   "metadata": {
    "tags": []
   },
   "outputs": [],
   "source": [
    "# Con retorno de varios valores:\n",
    "def multiple_return_greet():\n",
    "    return \"Hola\", \"KOI\""
   ]
  },
  {
   "cell_type": "code",
   "execution_count": 34,
   "id": "54ca1555-5a8e-4e27-863f-ad405d6fb525",
   "metadata": {
    "tags": []
   },
   "outputs": [
    {
     "name": "stdout",
     "output_type": "stream",
     "text": [
      "Hola\n",
      "KOI\n"
     ]
    }
   ],
   "source": [
    "greet, name = multiple_return_greet()\n",
    "print(greet)\n",
    "print(name)"
   ]
  },
  {
   "cell_type": "code",
   "execution_count": 35,
   "id": "70a5323b-0077-43c1-83f4-6cb09d3e6b95",
   "metadata": {
    "tags": []
   },
   "outputs": [],
   "source": [
    "# Con un número variable de argumentos:\n",
    "def variable_arg_greet(*names):\n",
    "    for name in names:\n",
    "        print(f\"Hola, {name}!\")"
   ]
  },
  {
   "cell_type": "code",
   "execution_count": 39,
   "id": "eaeb60af-9eb2-41c9-b7e7-8aaff2907b14",
   "metadata": {
    "tags": []
   },
   "outputs": [
    {
     "name": "stdout",
     "output_type": "stream",
     "text": [
      "Hola, KOI!\n",
      "Hola, Adrian!\n",
      "Hola, Naxx!\n",
      "Hola, Karpas!\n"
     ]
    }
   ],
   "source": [
    "variable_arg_greet(\"KOI\", \"Adrian\", \"Naxx\", \"Karpas\")"
   ]
  },
  {
   "cell_type": "code",
   "execution_count": 38,
   "id": "ec318a6c-b96c-42ea-8ab7-7e4a8d580bc6",
   "metadata": {
    "tags": []
   },
   "outputs": [],
   "source": [
    "# Con un número variable de argumentos con palabra clave:\n",
    "def variable_key_arg_greet(**names):\n",
    "    for key, value in names.items():\n",
    "        print(f\"{value} ({key})!\")"
   ]
  },
  {
   "cell_type": "code",
   "execution_count": 40,
   "id": "3abc064d-132a-467b-9293-f63f3725f7d5",
   "metadata": {
    "tags": []
   },
   "outputs": [
    {
     "name": "stdout",
     "output_type": "stream",
     "text": [
      "KOI (language)!\n",
      "Adrian (name)!\n",
      "Naxx (alias)!\n",
      "24 (age)!\n"
     ]
    }
   ],
   "source": [
    "variable_key_arg_greet(\n",
    "    language=\"KOI\",\n",
    "    name=\"Adrian\",\n",
    "    alias=\"Naxx\",\n",
    "    age=24\n",
    ")"
   ]
  },
  {
   "cell_type": "markdown",
   "id": "5d1e0768-5a3f-4146-be18-14cfe86d67c3",
   "metadata": {},
   "source": [
    "#### FUNCIONES DENTRO DE FUNCIONES:"
   ]
  },
  {
   "cell_type": "code",
   "execution_count": 41,
   "id": "aa0ed9c5-90d1-42c2-84f4-3540332e6a7b",
   "metadata": {
    "tags": []
   },
   "outputs": [],
   "source": [
    "def outer_function():\n",
    "    def inner_function():\n",
    "        print(\"Función interna: Hola, Python !\")\n",
    "    inner_function()"
   ]
  },
  {
   "cell_type": "code",
   "execution_count": 42,
   "id": "7a1df601-a586-40d9-9a6d-cfc9a0517474",
   "metadata": {
    "tags": []
   },
   "outputs": [
    {
     "name": "stdout",
     "output_type": "stream",
     "text": [
      "Función interna: Hola, Python !\n"
     ]
    }
   ],
   "source": [
    "outer_function()"
   ]
  },
  {
   "cell_type": "markdown",
   "id": "8ecab862-7ddd-43f0-bba4-9e112b2b1ea1",
   "metadata": {},
   "source": [
    "#### FUNCIONES DEL LENGUAJE (BUILT-IN):"
   ]
  },
  {
   "cell_type": "code",
   "execution_count": 45,
   "id": "d9f74eb5-b7e1-4f25-b57e-2ac4b2ea3fc5",
   "metadata": {
    "tags": []
   },
   "outputs": [
    {
     "name": "stdout",
     "output_type": "stream",
     "text": [
      "4\n",
      "<class 'int'>\n",
      "MOVISTAR KOI\n"
     ]
    }
   ],
   "source": [
    "print(len(\"Naxx\"))\n",
    "print(type(24))\n",
    "print(\"Movistar KOI\".upper())"
   ]
  },
  {
   "cell_type": "markdown",
   "id": "3b8b17b5-cf11-454a-81b3-356b13deea1d",
   "metadata": {},
   "source": [
    "#### VARIABLES LOCALES Y GLOBALES:"
   ]
  },
  {
   "cell_type": "code",
   "execution_count": 46,
   "id": "5957d22a-320a-4e1f-b5b5-3dacf236a269",
   "metadata": {
    "tags": []
   },
   "outputs": [],
   "source": [
    "global_var = \"KOI\""
   ]
  },
  {
   "cell_type": "code",
   "execution_count": 47,
   "id": "66eec72f-38cf-49d3-a039-974ee6226b11",
   "metadata": {
    "tags": []
   },
   "outputs": [],
   "source": [
    "def hello_KOI():\n",
    "    local_var = \"Hola\"\n",
    "    print(f\"{local_var}, {global_var}!\")"
   ]
  },
  {
   "cell_type": "code",
   "execution_count": 48,
   "id": "5f21eda2-5d8b-4781-8b56-9c91f7e39507",
   "metadata": {
    "tags": []
   },
   "outputs": [
    {
     "name": "stdout",
     "output_type": "stream",
     "text": [
      "KOI\n"
     ]
    }
   ],
   "source": [
    "print(global_var)"
   ]
  },
  {
   "cell_type": "code",
   "execution_count": 49,
   "id": "a6fb0f7a-a02d-43fa-bfe5-58f2d302ad0e",
   "metadata": {
    "tags": []
   },
   "outputs": [
    {
     "name": "stdout",
     "output_type": "stream",
     "text": [
      "Hola, KOI!\n"
     ]
    }
   ],
   "source": [
    "hello_KOI()"
   ]
  },
  {
   "cell_type": "markdown",
   "id": "77cf7311-6ad6-4551-a847-dae7d03f443e",
   "metadata": {},
   "source": [
    "## Ejercicio Extra:\n",
    "- Crea una función que reciba dos parámetros de tipo cadena de texto y retorne un número.\n",
    "- La función imprime todos los números del 1 al 100. Teniendo en cuenta que:<br>\n",
    "Si el número es múltiplo de 3, muestra la cadena de texto del primer parámetro.<br>\n",
    "Si el número es múltiplo de 5, muestra la cadena de texto del segundo parámtero.<br>\n",
    "Si el número es múltiplo de 3 y de 5, muestra las dos cadenas de texto concatenadas.<br>\n",
    "La función retorna el número de veces que se ha impreso el número en lugar de los textos."
   ]
  },
  {
   "cell_type": "code",
   "execution_count": 50,
   "id": "d4978931-9920-4ace-b936-594a778be5d7",
   "metadata": {
    "tags": []
   },
   "outputs": [],
   "source": [
    "def print_numbers(text_1, text_2) -> int:\n",
    "    count = 0\n",
    "    for number in range(1, 101):\n",
    "        if number % 3 == 0 and number % 5 == 0:\n",
    "            print(text_1 + text_2)\n",
    "        elif number % 3 == 0:\n",
    "            print(text_1)\n",
    "        elif number % 5 == 0:\n",
    "            print(text_2)\n",
    "        else:\n",
    "            print(number)\n",
    "            count += 1\n",
    "    return count"
   ]
  },
  {
   "cell_type": "code",
   "execution_count": 51,
   "id": "7730acee-21d1-4018-bc9b-5bd2c7d44251",
   "metadata": {
    "tags": []
   },
   "outputs": [
    {
     "name": "stdout",
     "output_type": "stream",
     "text": [
      "1\n",
      "2\n",
      "Fizz\n",
      "4\n",
      "Buzz\n",
      "Fizz\n",
      "7\n",
      "8\n",
      "Fizz\n",
      "Buzz\n",
      "11\n",
      "Fizz\n",
      "13\n",
      "14\n",
      "FizzBuzz\n",
      "16\n",
      "17\n",
      "Fizz\n",
      "19\n",
      "Buzz\n",
      "Fizz\n",
      "22\n",
      "23\n",
      "Fizz\n",
      "Buzz\n",
      "26\n",
      "Fizz\n",
      "28\n",
      "29\n",
      "FizzBuzz\n",
      "31\n",
      "32\n",
      "Fizz\n",
      "34\n",
      "Buzz\n",
      "Fizz\n",
      "37\n",
      "38\n",
      "Fizz\n",
      "Buzz\n",
      "41\n",
      "Fizz\n",
      "43\n",
      "44\n",
      "FizzBuzz\n",
      "46\n",
      "47\n",
      "Fizz\n",
      "49\n",
      "Buzz\n",
      "Fizz\n",
      "52\n",
      "53\n",
      "Fizz\n",
      "Buzz\n",
      "56\n",
      "Fizz\n",
      "58\n",
      "59\n",
      "FizzBuzz\n",
      "61\n",
      "62\n",
      "Fizz\n",
      "64\n",
      "Buzz\n",
      "Fizz\n",
      "67\n",
      "68\n",
      "Fizz\n",
      "Buzz\n",
      "71\n",
      "Fizz\n",
      "73\n",
      "74\n",
      "FizzBuzz\n",
      "76\n",
      "77\n",
      "Fizz\n",
      "79\n",
      "Buzz\n",
      "Fizz\n",
      "82\n",
      "83\n",
      "Fizz\n",
      "Buzz\n",
      "86\n",
      "Fizz\n",
      "88\n",
      "89\n",
      "FizzBuzz\n",
      "91\n",
      "92\n",
      "Fizz\n",
      "94\n",
      "Buzz\n",
      "Fizz\n",
      "97\n",
      "98\n",
      "Fizz\n",
      "Buzz\n",
      "53\n"
     ]
    }
   ],
   "source": [
    "print(print_numbers(\"Fizz\", \"Buzz\"))"
   ]
  },
  {
   "cell_type": "code",
   "execution_count": null,
   "id": "3724d95f-86bd-4de1-a481-ae44e87047b4",
   "metadata": {},
   "outputs": [],
   "source": []
  }
 ],
 "metadata": {
  "kernelspec": {
   "display_name": "Python 3 (ipykernel)",
   "language": "python",
   "name": "python3"
  },
  "language_info": {
   "codemirror_mode": {
    "name": "ipython",
    "version": 3
   },
   "file_extension": ".py",
   "mimetype": "text/x-python",
   "name": "python",
   "nbconvert_exporter": "python",
   "pygments_lexer": "ipython3",
   "version": "3.11.5"
  }
 },
 "nbformat": 4,
 "nbformat_minor": 5
}
