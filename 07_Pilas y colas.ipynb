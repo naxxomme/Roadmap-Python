{
 "cells": [
  {
   "cell_type": "markdown",
   "id": "bdd75b48-fbb4-4ac4-b2c5-b7fa830bb8d8",
   "metadata": {},
   "source": [
    "## Ejercicio:\n",
    "- Implementa los mecanismos de introducción y recuperación de elementos propios de las pilas (stacks-LIFO)<br>\n",
    "y las colas (queue-FIFO) utilizando una estructura de array o lista (dependiendo de las posibilidades de tu lenguaje)."
   ]
  },
  {
   "cell_type": "code",
   "execution_count": 1,
   "id": "d474b078-ba63-45bd-b856-6e150ed11e9b",
   "metadata": {
    "tags": []
   },
   "outputs": [
    {
     "name": "stdout",
     "output_type": "stream",
     "text": [
      "[1, 2, 3]\n"
     ]
    }
   ],
   "source": [
    "# Pila/Stack (LIFO)\n",
    "\n",
    "stack = []\n",
    "\n",
    "# push\n",
    "stack.append(1)\n",
    "stack.append(2)\n",
    "stack.append(3)\n",
    "print(stack)"
   ]
  },
  {
   "cell_type": "code",
   "execution_count": 2,
   "id": "224f2abc-0863-41b0-92dd-4e10416fbba3",
   "metadata": {
    "tags": []
   },
   "outputs": [
    {
     "name": "stdout",
     "output_type": "stream",
     "text": [
      "3\n",
      "2\n",
      "[1]\n"
     ]
    }
   ],
   "source": [
    "# pop\n",
    "stack_item = stack[len(stack) - 1]\n",
    "del stack[len(stack) - 1]\n",
    "print(stack_item)\n",
    "\n",
    "print(stack.pop())\n",
    "\n",
    "print(stack)"
   ]
  },
  {
   "cell_type": "code",
   "execution_count": 3,
   "id": "f5626ccb-50d6-4e3c-9e78-fc44baffc85b",
   "metadata": {
    "tags": []
   },
   "outputs": [],
   "source": [
    "# Cola/Queue (FIFO)\n",
    "\n",
    "queue = []"
   ]
  },
  {
   "cell_type": "code",
   "execution_count": 4,
   "id": "ca0a373a-1bad-4678-b5da-b64bede4966a",
   "metadata": {
    "tags": []
   },
   "outputs": [
    {
     "name": "stdout",
     "output_type": "stream",
     "text": [
      "[1, 2, 3]\n"
     ]
    }
   ],
   "source": [
    "# enqueue\n",
    "queue.append(1)\n",
    "queue.append(2)\n",
    "queue.append(3)\n",
    "\n",
    "print(queue)"
   ]
  },
  {
   "cell_type": "code",
   "execution_count": 5,
   "id": "e0fefe77-9c19-42cb-ad79-e05b10d1cac7",
   "metadata": {
    "tags": []
   },
   "outputs": [
    {
     "name": "stdout",
     "output_type": "stream",
     "text": [
      "1\n",
      "2\n",
      "[3]\n"
     ]
    }
   ],
   "source": [
    "# dequeue\n",
    "queue_item = queue[0]\n",
    "del queue[0]\n",
    "print(queue_item)\n",
    "\n",
    "print(queue.pop(0))\n",
    "\n",
    "print(queue)"
   ]
  },
  {
   "cell_type": "code",
   "execution_count": null,
   "id": "0cef97bf-9602-4acc-a0ed-b7982b7477f6",
   "metadata": {},
   "outputs": [],
   "source": []
  }
 ],
 "metadata": {
  "kernelspec": {
   "display_name": "Python 3 (ipykernel)",
   "language": "python",
   "name": "python3"
  },
  "language_info": {
   "codemirror_mode": {
    "name": "ipython",
    "version": 3
   },
   "file_extension": ".py",
   "mimetype": "text/x-python",
   "name": "python",
   "nbconvert_exporter": "python",
   "pygments_lexer": "ipython3",
   "version": "3.11.5"
  }
 },
 "nbformat": 4,
 "nbformat_minor": 5
}
