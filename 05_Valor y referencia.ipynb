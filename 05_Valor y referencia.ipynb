{
 "cells": [
  {
   "cell_type": "markdown",
   "id": "aff43c59-053b-4eea-8b68-b33e337a997c",
   "metadata": {},
   "source": [
    "## Ejercicio:\n",
    "- Muestra ejemplos de asignación de variables 'por valor' y 'por referencia', según <br>\n",
    "su tipo de dato.\n",
    "- Muestra ejemplos de funciones con variables que se les pasan 'por valor' y 'por referencia', y cómo se comportan en cada caso en el momento de ser modificadas."
   ]
  },
  {
   "cell_type": "code",
   "execution_count": 1,
   "id": "48aceba4-b4af-4de0-b30f-50ea15399bcf",
   "metadata": {
    "tags": []
   },
   "outputs": [
    {
     "name": "stdout",
     "output_type": "stream",
     "text": [
      "10\n",
      "20\n"
     ]
    }
   ],
   "source": [
    "# Tipos de dato por valor\n",
    "\n",
    "my_int_a = 10\n",
    "my_int_b = my_int_a\n",
    "my_int_b = 20\n",
    "# my_int_a = 30\n",
    "print(my_int_a)\n",
    "print(my_int_b)"
   ]
  },
  {
   "cell_type": "code",
   "execution_count": 2,
   "id": "6c48ceab-6c9b-4020-be04-d65c023ff3e7",
   "metadata": {
    "tags": []
   },
   "outputs": [
    {
     "name": "stdout",
     "output_type": "stream",
     "text": [
      "20\n",
      "10\n"
     ]
    }
   ],
   "source": [
    "# Funciones con datos por valor\n",
    "\n",
    "def my_int_func(my_int: int):\n",
    "    my_int = 20\n",
    "    print(my_int)\n",
    "\n",
    "my_int_c = 10\n",
    "my_int_func(my_int_c)\n",
    "print(my_int_c)"
   ]
  },
  {
   "cell_type": "code",
   "execution_count": 3,
   "id": "955b5d30-9e36-4992-9247-afd760ddb45e",
   "metadata": {
    "tags": []
   },
   "outputs": [
    {
     "name": "stdout",
     "output_type": "stream",
     "text": [
      "[10, 20, 30, 40]\n",
      "[10, 20, 30, 40]\n",
      "[10, 20, 30, 40]\n"
     ]
    }
   ],
   "source": [
    "# Funciones con datos por referencia\n",
    "\n",
    "def my_list_func(my_list: list):\n",
    "    my_list.append(30)\n",
    "\n",
    "    my_list_d = my_list\n",
    "    my_list_d.append(40)\n",
    "\n",
    "    print(my_list)\n",
    "    print(my_list_d)\n",
    "\n",
    "my_list_c = [10, 20]\n",
    "my_list_func(my_list_c)\n",
    "print(my_list_c)"
   ]
  },
  {
   "cell_type": "markdown",
   "id": "450df5c3-dc31-4fe4-a406-9b04e4670497",
   "metadata": {},
   "source": [
    "## Ejercicio Extra:\n",
    "Crea dos programas que reciban dos parámetros (cada uno) definidos como variables anteriormente.<br>\n",
    "Cada programa recibe, en su caso, dos parámetros por valor, y en otro caso, por referencia.<br>\n",
    "Estos parámetros los intercambia entre ellos en su interior, los retorna, y su retorno<br>\n",
    "se asigna a dos variables diferentes a las originales. A continuación, imprime el valor de las<br>\n",
    "variables originales y las nuevas, comprobando que se ha invertido su valor en las segundas.<br>\n",
    "Comprueba también que se ha conservado el valor original de las primeras."
   ]
  },
  {
   "cell_type": "code",
   "execution_count": 7,
   "id": "9f5a1511-070b-4883-9711-dc929f57d66b",
   "metadata": {},
   "outputs": [
    {
     "name": "stdout",
     "output_type": "stream",
     "text": [
      "10, 20\n",
      "20, 10\n"
     ]
    }
   ],
   "source": [
    "# Por valor\n",
    "def value(value_a: int, value_b: int) -> tuple:\n",
    "    temp = value_a\n",
    "    value_a = value_b\n",
    "    value_b = temp\n",
    "    return value_a, value_b\n",
    "\n",
    "\n",
    "my_int_d = 10\n",
    "my_int_e = 20\n",
    "my_int_f, my_int_g = value(my_int_d, my_int_e)\n",
    "\n",
    "print(f\"{my_int_d}, {my_int_e}\")\n",
    "print(f\"{my_int_f}, {my_int_g}\")"
   ]
  },
  {
   "cell_type": "code",
   "execution_count": 8,
   "id": "2b0622d7-0992-4ceb-9834-09da6ff27af3",
   "metadata": {
    "tags": []
   },
   "outputs": [
    {
     "name": "stdout",
     "output_type": "stream",
     "text": [
      "[10, 20], [30, 40]\n",
      "[30, 40], [10, 20]\n"
     ]
    }
   ],
   "source": [
    "# Por referencia\n",
    "def ref(value_a: list, value_b: list) -> tuple:\n",
    "    temp = value_a\n",
    "    value_a = value_b\n",
    "    value_b = temp\n",
    "    return value_a, value_b\n",
    "\n",
    "\n",
    "my_list_e = [10, 20]\n",
    "my_list_f = [30, 40]\n",
    "my_list_g, my_list_h = ref(my_list_e, my_list_f)\n",
    "print(f\"{my_list_e}, {my_list_f}\")\n",
    "print(f\"{my_list_g}, {my_list_h}\")"
   ]
  },
  {
   "cell_type": "code",
   "execution_count": null,
   "id": "986b070c-460e-45a6-8c55-03515f78a0ae",
   "metadata": {},
   "outputs": [],
   "source": []
  },
  {
   "cell_type": "code",
   "execution_count": null,
   "id": "35cf53be-ef00-42f5-af7c-cfc39edb7689",
   "metadata": {},
   "outputs": [],
   "source": []
  }
 ],
 "metadata": {
  "kernelspec": {
   "display_name": "Python 3 (ipykernel)",
   "language": "python",
   "name": "python3"
  },
  "language_info": {
   "codemirror_mode": {
    "name": "ipython",
    "version": 3
   },
   "file_extension": ".py",
   "mimetype": "text/x-python",
   "name": "python",
   "nbconvert_exporter": "python",
   "pygments_lexer": "ipython3",
   "version": "3.11.5"
  }
 },
 "nbformat": 4,
 "nbformat_minor": 5
}
