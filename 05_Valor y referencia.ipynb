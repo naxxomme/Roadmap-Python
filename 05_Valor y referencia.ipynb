{
 "cells": [
  {
   "cell_type": "markdown",
   "id": "aff43c59-053b-4eea-8b68-b33e337a997c",
   "metadata": {},
   "source": [
    "## Ejercicio:\n",
    "- Muestra ejemplos de asignación de variables 'por valor' y 'por referencia', según <br>\n",
    "su tipo de dato.\n",
    "- Muestra ejemplos de funciones con variables que se les pasan 'por valor' y 'por referencia', y cómo se comportan en cada caso en el momento de ser modificadas."
   ]
  },
  {
   "cell_type": "code",
   "execution_count": null,
   "id": "60f6f178-5ba6-4567-89be-f852cd6ef64c",
   "metadata": {},
   "outputs": [],
   "source": []
  },
  {
   "cell_type": "markdown",
   "id": "ff192b65-7287-451b-9f10-0771a6d44aab",
   "metadata": {},
   "source": [
    "## Ejercicio Extra:\n",
    "Crea dos programas que reciban dos parámetros (cada uno) definidos como variables anteriormente.<br>\n",
    "Cada programa recibe, en su caso, dos parámetros por valor, y en otro caso, por referencia.<br>\n",
    "Estos parámetros los intercambia entre ellos en su interior, los retorna, y su retorno<br>\n",
    "se asigna a dos variables diferentes a las originales. A continuación, imprime el valor de las<br>\n",
    "variables originales y las nuevas, comprobando que se ha invertido su valor en las segundas.<br>\n",
    "Comprueba también que se ha conservado el valor original de las primeras."
   ]
  },
  {
   "cell_type": "code",
   "execution_count": null,
   "id": "79bd61fc-5deb-4e55-9ef3-360bed80352b",
   "metadata": {},
   "outputs": [],
   "source": []
  }
 ],
 "metadata": {
  "kernelspec": {
   "display_name": "Python 3 (ipykernel)",
   "language": "python",
   "name": "python3"
  },
  "language_info": {
   "codemirror_mode": {
    "name": "ipython",
    "version": 3
   },
   "file_extension": ".py",
   "mimetype": "text/x-python",
   "name": "python",
   "nbconvert_exporter": "python",
   "pygments_lexer": "ipython3",
   "version": "3.11.5"
  }
 },
 "nbformat": 4,
 "nbformat_minor": 5
}
