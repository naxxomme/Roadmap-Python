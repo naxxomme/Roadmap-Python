{
 "cells": [
  {
   "cell_type": "markdown",
   "id": "8429495b-8095-4e50-8555-bbee070c58b5",
   "metadata": {},
   "source": [
    "## Ejercicio:\n",
    "- Explora el concepto de clase y crea un ejemplo que implemente un inicializador,<br>\n",
    "atributos y una función que los imprima (teniendo en cuenta las posibilidades de tu lenguaje).<br>\n",
    "Una vez implementada, créala, establece sus parámetros, modifícalos e imprímelos utilizando su función."
   ]
  },
  {
   "cell_type": "code",
   "execution_count": 1,
   "id": "e8221ac6-89d9-4522-bc3e-f52f887c7d04",
   "metadata": {
    "tags": []
   },
   "outputs": [],
   "source": [
    "class Programmer:\n",
    "\n",
    "    surname: str = None\n",
    "\n",
    "    def __init__(self, name: str, age: int, languages: list):\n",
    "        self.name = name\n",
    "        self.age = age\n",
    "        self.languages = languages\n",
    "\n",
    "    def print(self):\n",
    "        print(\n",
    "            f\"Nombre: {self.name} | Apellidos: {self.surname} | Edad: {self.age} | Lenguajes: {self.languages}\")"
   ]
  },
  {
   "cell_type": "code",
   "execution_count": 2,
   "id": "3c6e03f5-b89f-4119-b804-6865d84e5ce3",
   "metadata": {
    "tags": []
   },
   "outputs": [
    {
     "name": "stdout",
     "output_type": "stream",
     "text": [
      "Nombre: Brais | Apellidos: None | Edad: 36 | Lenguajes: ['Python', 'Kotlin', 'Swift']\n",
      "Nombre: Brais | Apellidos: Moure | Edad: 36 | Lenguajes: ['Python', 'Kotlin', 'Swift']\n",
      "Nombre: Brais | Apellidos: Moure | Edad: 37 | Lenguajes: ['Python', 'Kotlin', 'Swift']\n"
     ]
    }
   ],
   "source": [
    "my_programmer = Programmer(\"Brais\", 36, [\"Python\", \"Kotlin\", \"Swift\"])\n",
    "my_programmer.print()\n",
    "my_programmer.surname = \"Moure\"\n",
    "my_programmer.print()\n",
    "my_programmer.age = 37\n",
    "my_programmer.print()"
   ]
  },
  {
   "cell_type": "code",
   "execution_count": null,
   "id": "74594389-bcc4-4192-9773-23e26e52baaa",
   "metadata": {},
   "outputs": [],
   "source": []
  }
 ],
 "metadata": {
  "kernelspec": {
   "display_name": "Python 3 (ipykernel)",
   "language": "python",
   "name": "python3"
  },
  "language_info": {
   "codemirror_mode": {
    "name": "ipython",
    "version": 3
   },
   "file_extension": ".py",
   "mimetype": "text/x-python",
   "name": "python",
   "nbconvert_exporter": "python",
   "pygments_lexer": "ipython3",
   "version": "3.11.5"
  }
 },
 "nbformat": 4,
 "nbformat_minor": 5
}
