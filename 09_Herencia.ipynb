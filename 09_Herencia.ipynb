{
 "cells": [
  {
   "cell_type": "markdown",
   "id": "0c2b3852-3ff9-49c2-b82b-8f4709bd0631",
   "metadata": {},
   "source": [
    "## Ejercicio:\n",
    "Explora el concepto de herencia según tu lenguaje.<br> \n",
    "Crea un ejemplo que implemente una superclase Animal y un par de subclases Perro y Gato,<br>\n",
    "junto con una función que sirva para imprimir el sonido que emite cada animal."
   ]
  },
  {
   "cell_type": "markdown",
   "id": "8126b6c8-9153-4677-979b-e2c02240a08d",
   "metadata": {},
   "source": [
    "### Definición:\n",
    "La herencia es un mecanismo que permite a una clase (llamada subclase o clase derivada) heredar atributos<br>\n",
    "y métodos de otra clase (llamada superclase o clase base).<br>\n",
    "Esto significa que una subclase puede utilizar y extender la funcionalidad de su superclase, lo que<br>\n",
    "promueve la reutilización de código y facilita la organización de clases relacionadas en una jerarquía."
   ]
  },
  {
   "cell_type": "code",
   "execution_count": 1,
   "id": "9f079fc7-d126-4541-9aee-cb2e34f0f1c5",
   "metadata": {
    "tags": []
   },
   "outputs": [],
   "source": [
    "#Definición de la superclase Animal\n",
    "class Animal:\n",
    "    def hacer_sonido(self):\n",
    "        #Método por defecto para hacer sonido de un animal\n",
    "        pass"
   ]
  },
  {
   "cell_type": "code",
   "execution_count": 2,
   "id": "80dbdbb1-b032-44d6-b88a-60c7c0236c6f",
   "metadata": {
    "tags": []
   },
   "outputs": [],
   "source": [
    "#Definción de la subclase Perro que hereda de Animal\n",
    "class Perro(Animal):\n",
    "    def hacer_sonido(self):\n",
    "        return \"Guau\""
   ]
  },
  {
   "cell_type": "code",
   "execution_count": 3,
   "id": "63bb751c-40b4-4752-8d94-10ee752e7b71",
   "metadata": {
    "tags": []
   },
   "outputs": [],
   "source": [
    "#Definción de la subclase Gato que hereda de Animal\n",
    "class Gato(Animal):\n",
    "    def hacer_sonido(self):\n",
    "        return \"Miau\""
   ]
  },
  {
   "cell_type": "code",
   "execution_count": 4,
   "id": "88afb114-ec04-457e-98c1-e8ff2a4b1e7f",
   "metadata": {
    "tags": []
   },
   "outputs": [],
   "source": [
    "#Función para imprimir el sonido que emite un animal\n",
    "def emitir_sonido(animal):\n",
    "    #Llamada al método hacer_sonido() del objeto animal\n",
    "    print(animal.hacer_sonido())"
   ]
  },
  {
   "cell_type": "code",
   "execution_count": 5,
   "id": "391519d2-1e1e-4976-890e-1615b7c27159",
   "metadata": {
    "tags": []
   },
   "outputs": [],
   "source": [
    "#Creación de objetos de las subclases Perro y Gato\n",
    "perro=Perro()\n",
    "gato=Gato()"
   ]
  },
  {
   "cell_type": "code",
   "execution_count": 6,
   "id": "1f024e5e-932d-408c-96ad-d4accea8f672",
   "metadata": {
    "tags": []
   },
   "outputs": [
    {
     "name": "stdout",
     "output_type": "stream",
     "text": [
      "Guau\n",
      "Miau\n"
     ]
    }
   ],
   "source": [
    "#Uso de la función emitir_sonido() con objetos de diferentes clases\n",
    "emitir_sonido(perro)\n",
    "emitir_sonido(gato)"
   ]
  },
  {
   "cell_type": "markdown",
   "id": "df758722-3527-46b8-b164-d006a2ef8c35",
   "metadata": {},
   "source": [
    "## EJERCICIO EXTRA:\n",
    "Implementa la jerarquía de una empresa de desarrollo formada por Empleados que<br>\n",
    "pueden ser Gerentes, Gerentes de Proyectos o Programadores.<br>\n",
    "Cada empleado tiene un identificador y un nombre.<br>\n",
    "Dependiendo de su labor, tienen propiedades y funciones exclusivas de su actividad,<br>\n",
    "y almacenan los empleados a su cargo."
   ]
  },
  {
   "cell_type": "code",
   "execution_count": 15,
   "id": "6a21e0a1-8378-4d3f-8278-5ebde0b75b34",
   "metadata": {
    "tags": []
   },
   "outputs": [],
   "source": [
    "class Empleado:\n",
    "    def __init__(self,ide,name):\n",
    "        self.ide=ide\n",
    "        self.name=name"
   ]
  },
  {
   "cell_type": "code",
   "execution_count": 16,
   "id": "ec9a64ef-d7be-4dad-88ef-d149cb7e2db3",
   "metadata": {
    "tags": []
   },
   "outputs": [],
   "source": [
    "class Gerente(Empleado):\n",
    "    def __init__(self,ide,name,department):\n",
    "        super().__init__(ide,name)\n",
    "        self.department=department\n",
    "        self.ppl_in_charge=[]"
   ]
  },
  {
   "cell_type": "code",
   "execution_count": 17,
   "id": "3baa5ad2-d7e9-4a4c-a839-3f969de1cb49",
   "metadata": {
    "tags": []
   },
   "outputs": [],
   "source": [
    "class GerenteProyecto(Empleado):\n",
    "    def __init__(self,ide,name,project):\n",
    "        super().__init__(ide,name)\n",
    "        self.project=project"
   ]
  },
  {
   "cell_type": "code",
   "execution_count": 18,
   "id": "4c0711bb-5e39-4017-9a1b-23ba511aee7b",
   "metadata": {
    "tags": []
   },
   "outputs": [],
   "source": [
    "class Programador(Empleado):\n",
    "    def __init__(self,ide,name,language):\n",
    "        super().__init__(ide,name)\n",
    "        self.language=language"
   ]
  },
  {
   "cell_type": "code",
   "execution_count": 19,
   "id": "c871a1a5-c200-4301-bd08-48a047035689",
   "metadata": {
    "tags": []
   },
   "outputs": [],
   "source": [
    "gerente1 = Gerente(1, \"Juan\", \"Desarrollo\")\n",
    "gerente2 = Gerente(2, \"María\", \"Ventas\")\n",
    "programador1 = Programador(3, \"Carlos\", \"Python\")\n",
    "programador2 = Programador(4, \"Ana\", \"JavaScript\")\n",
    "gerente_proyecto1 = GerenteProyecto(5, \"Pedro\", \"Proyecto A\")"
   ]
  },
  {
   "cell_type": "code",
   "execution_count": null,
   "id": "fee080b3-9078-46ee-a21f-112acb378dfc",
   "metadata": {},
   "outputs": [],
   "source": []
  }
 ],
 "metadata": {
  "kernelspec": {
   "display_name": "Python 3 (ipykernel)",
   "language": "python",
   "name": "python3"
  },
  "language_info": {
   "codemirror_mode": {
    "name": "ipython",
    "version": 3
   },
   "file_extension": ".py",
   "mimetype": "text/x-python",
   "name": "python",
   "nbconvert_exporter": "python",
   "pygments_lexer": "ipython3",
   "version": "3.11.5"
  }
 },
 "nbformat": 4,
 "nbformat_minor": 5
}
