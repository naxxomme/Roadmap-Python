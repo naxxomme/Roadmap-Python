{
 "cells": [
  {
   "cell_type": "markdown",
   "id": "a6441576-d7c2-413c-b0e8-ab96c95fd9c3",
   "metadata": {},
   "source": [
    "## Ejercicio:\n",
    "- Entiende el concepto de recursividad creando una función recursiva que imprima <br>\n",
    "números del 100 al 0"
   ]
  },
  {
   "cell_type": "code",
   "execution_count": 1,
   "id": "f6180a38-2073-4a61-8d85-040d90969682",
   "metadata": {
    "tags": []
   },
   "outputs": [
    {
     "name": "stdout",
     "output_type": "stream",
     "text": [
      "100\n",
      "99\n",
      "98\n",
      "97\n",
      "96\n",
      "95\n",
      "94\n",
      "93\n",
      "92\n",
      "91\n",
      "90\n",
      "89\n",
      "88\n",
      "87\n",
      "86\n",
      "85\n",
      "84\n",
      "83\n",
      "82\n",
      "81\n",
      "80\n",
      "79\n",
      "78\n",
      "77\n",
      "76\n",
      "75\n",
      "74\n",
      "73\n",
      "72\n",
      "71\n",
      "70\n",
      "69\n",
      "68\n",
      "67\n",
      "66\n",
      "65\n",
      "64\n",
      "63\n",
      "62\n",
      "61\n",
      "60\n",
      "59\n",
      "58\n",
      "57\n",
      "56\n",
      "55\n",
      "54\n",
      "53\n",
      "52\n",
      "51\n",
      "50\n",
      "49\n",
      "48\n",
      "47\n",
      "46\n",
      "45\n",
      "44\n",
      "43\n",
      "42\n",
      "41\n",
      "40\n",
      "39\n",
      "38\n",
      "37\n",
      "36\n",
      "35\n",
      "34\n",
      "33\n",
      "32\n",
      "31\n",
      "30\n",
      "29\n",
      "28\n",
      "27\n",
      "26\n",
      "25\n",
      "24\n",
      "23\n",
      "22\n",
      "21\n",
      "20\n",
      "19\n",
      "18\n",
      "17\n",
      "16\n",
      "15\n",
      "14\n",
      "13\n",
      "12\n",
      "11\n",
      "10\n",
      "9\n",
      "8\n",
      "7\n",
      "6\n",
      "5\n",
      "4\n",
      "3\n",
      "2\n",
      "1\n",
      "0\n"
     ]
    }
   ],
   "source": [
    "def countdown(number: int):\n",
    "    if number >= 0:\n",
    "        print(number)\n",
    "        countdown(number - 1)\n",
    "\n",
    "countdown(100)"
   ]
  },
  {
   "cell_type": "markdown",
   "id": "203e5a88-26c2-48c8-bc3a-a2a4e3d386c2",
   "metadata": {},
   "source": [
    "## Ejercicio Extra:\n",
    "Utiliza el concepto de recursividad para:\n",
    "- Calcular el factorial de un número concreto (la función recibe ese número).\n",
    "- Calcular el valor de un elemento concreto (según su posición) en la<br>\n",
    "sucesión de Fibonacci (la función recibe la posición)."
   ]
  },
  {
   "cell_type": "code",
   "execution_count": 5,
   "id": "674eace2-2d3b-4a82-abca-e295bed35641",
   "metadata": {
    "tags": []
   },
   "outputs": [
    {
     "name": "stdout",
     "output_type": "stream",
     "text": [
      "24\n"
     ]
    }
   ],
   "source": [
    "def factorial(number: int) -> int:\n",
    "    if number < 0:\n",
    "        print(\"Los números negativos no son válidos\")\n",
    "        return 0\n",
    "    elif number == 0:\n",
    "        return 1\n",
    "    else:\n",
    "        return number * factorial(number - 1)\n",
    "\n",
    "\n",
    "print(factorial(4))"
   ]
  },
  {
   "cell_type": "code",
   "execution_count": 8,
   "id": "3fc2b1aa-fa58-4005-b97e-510381e1f603",
   "metadata": {
    "tags": []
   },
   "outputs": [
    {
     "name": "stdout",
     "output_type": "stream",
     "text": [
      "120\n",
      "34\n"
     ]
    }
   ],
   "source": [
    "def factorial(number: int) -> int:\n",
    "    if number < 0:\n",
    "        print(\"Los números negativos no son válidos\")\n",
    "        return 0\n",
    "    elif number == 0:\n",
    "        return 1\n",
    "    else:\n",
    "        return number * factorial(number - 1)\n",
    "\n",
    "\n",
    "print(factorial(5))\n",
    "\n",
    "\n",
    "def fibonacci(number: int) -> int:\n",
    "    if number <= 0:\n",
    "        print(\"La posición tiene que ser mayor que cero\")\n",
    "        return 0\n",
    "    elif number == 1:\n",
    "        return 0\n",
    "    elif number == 2:\n",
    "        return 1\n",
    "    else:\n",
    "        return fibonacci(number - 1) + fibonacci(number - 2)\n",
    "\n",
    "print(fibonacci(10))"
   ]
  },
  {
   "cell_type": "code",
   "execution_count": null,
   "id": "6bb5e516-5b0f-42c8-8da5-b9103e2440c3",
   "metadata": {},
   "outputs": [],
   "source": []
  }
 ],
 "metadata": {
  "kernelspec": {
   "display_name": "Python 3 (ipykernel)",
   "language": "python",
   "name": "python3"
  },
  "language_info": {
   "codemirror_mode": {
    "name": "ipython",
    "version": 3
   },
   "file_extension": ".py",
   "mimetype": "text/x-python",
   "name": "python",
   "nbconvert_exporter": "python",
   "pygments_lexer": "ipython3",
   "version": "3.11.5"
  }
 },
 "nbformat": 4,
 "nbformat_minor": 5
}
