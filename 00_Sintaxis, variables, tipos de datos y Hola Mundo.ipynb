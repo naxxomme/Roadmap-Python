{
 "cells": [
  {
   "cell_type": "markdown",
   "id": "b7eaf120-091f-4371-9d9f-a460a6fe90b2",
   "metadata": {},
   "source": [
    "## Ejercicio:\n",
    "- Crea un comentario en el código y coloca la URL del sitio web oficial del lenguaje de programación que has seleccionado.\n",
    "- Representa las diferentes sintaxis que existen de crear comentarios en el lenguaje (en una línea, varias...).\n",
    "- Crea una variable (y una constante si el lenguaje lo soporta).\n",
    "- Crea variables representando todos los tipos de datos primitivos del lenguaje (cadenas de texto, enteros, booleanos...).\n",
    "- Imprime por terminal el texto: \"¡Hola, [y el nombre de tu lenguaje]!\""
   ]
  },
  {
   "cell_type": "code",
   "execution_count": 1,
   "id": "2c94f18b-0e69-4957-9bb1-bfada0681cc1",
   "metadata": {
    "tags": []
   },
   "outputs": [],
   "source": [
    "#URL: https://python.org"
   ]
  },
  {
   "cell_type": "code",
   "execution_count": 3,
   "id": "588a75f2-a102-441b-a66d-e9e7311fea66",
   "metadata": {
    "tags": []
   },
   "outputs": [],
   "source": [
    "# Comentario de una sola línea\n",
    "#Comentario \n",
    "#de \n",
    "#varias \n",
    "#líneas"
   ]
  },
  {
   "cell_type": "code",
   "execution_count": 4,
   "id": "8e0e8911-46bd-4f43-94b7-02d33fec2492",
   "metadata": {
    "tags": []
   },
   "outputs": [],
   "source": [
    "my_variable=\"Mi variable\""
   ]
  },
  {
   "cell_type": "code",
   "execution_count": 5,
   "id": "deffe3ab-277e-4647-8c78-976689cf0a37",
   "metadata": {
    "tags": []
   },
   "outputs": [
    {
     "data": {
      "text/plain": [
       "'Mi variable'"
      ]
     },
     "execution_count": 5,
     "metadata": {},
     "output_type": "execute_result"
    }
   ],
   "source": [
    "my_variable"
   ]
  },
  {
   "cell_type": "code",
   "execution_count": 6,
   "id": "1e5c3c39-3ec2-43a8-beb4-5e959e874ff9",
   "metadata": {
    "tags": []
   },
   "outputs": [],
   "source": [
    "my_variable=\"Nuevo valor de mi variable\""
   ]
  },
  {
   "cell_type": "code",
   "execution_count": 7,
   "id": "45db6427-fb92-4285-84a2-45d1e4321419",
   "metadata": {
    "tags": []
   },
   "outputs": [
    {
     "data": {
      "text/plain": [
       "'Nuevo valor de mi variable'"
      ]
     },
     "execution_count": 7,
     "metadata": {},
     "output_type": "execute_result"
    }
   ],
   "source": [
    "my_variable"
   ]
  },
  {
   "cell_type": "code",
   "execution_count": 8,
   "id": "3f392d3e-0528-4efb-bf9c-b614576c9b62",
   "metadata": {
    "tags": []
   },
   "outputs": [],
   "source": [
    "MY_CONSTANT=\"mi constante\" #por convención"
   ]
  },
  {
   "cell_type": "code",
   "execution_count": 10,
   "id": "8cb7bb48-da4a-42b9-bc5b-5cdf63c56e18",
   "metadata": {
    "tags": []
   },
   "outputs": [],
   "source": [
    "my_int=1\n",
    "my_float=1.5\n",
    "my_bool=True\n",
    "my_bool2=False\n",
    "my_string=\"Mi cadena de texto\"\n",
    "my_other_string=\"Mi otra cadena de texto\""
   ]
  },
  {
   "cell_type": "code",
   "execution_count": 13,
   "id": "4d43ed50-557b-4663-89d6-0817c43b95c5",
   "metadata": {
    "tags": []
   },
   "outputs": [
    {
     "name": "stdout",
     "output_type": "stream",
     "text": [
      "1\n",
      "1.5\n",
      "True\n",
      "False\n",
      "Mi cadena de texto\n",
      "Mi otra cadena de texto\n"
     ]
    }
   ],
   "source": [
    "print(my_int)\n",
    "print(my_float)\n",
    "print(my_bool)\n",
    "print(my_bool2)\n",
    "print(my_string)\n",
    "print(my_other_string)"
   ]
  },
  {
   "cell_type": "code",
   "execution_count": 14,
   "id": "dfb18d4d-1d80-40b0-bb72-d5f950d936d1",
   "metadata": {
    "tags": []
   },
   "outputs": [
    {
     "name": "stdout",
     "output_type": "stream",
     "text": [
      "<class 'int'>\n",
      "<class 'float'>\n",
      "<class 'bool'>\n",
      "<class 'str'>\n"
     ]
    }
   ],
   "source": [
    "print(type(my_int))\n",
    "print(type(my_float))\n",
    "print(type(my_bool))\n",
    "print(type(my_string))"
   ]
  },
  {
   "cell_type": "code",
   "execution_count": 15,
   "id": "95092a3a-5789-41a4-9f07-6da404d0af16",
   "metadata": {
    "tags": []
   },
   "outputs": [
    {
     "name": "stdout",
     "output_type": "stream",
     "text": [
      "Hola Python!\n"
     ]
    }
   ],
   "source": [
    "print(\"Hola Python!\")"
   ]
  },
  {
   "cell_type": "code",
   "execution_count": null,
   "id": "3859e94e-554c-4270-a88f-7a6cab137ece",
   "metadata": {},
   "outputs": [],
   "source": []
  }
 ],
 "metadata": {
  "kernelspec": {
   "display_name": "Python 3 (ipykernel)",
   "language": "python",
   "name": "python3"
  },
  "language_info": {
   "codemirror_mode": {
    "name": "ipython",
    "version": 3
   },
   "file_extension": ".py",
   "mimetype": "text/x-python",
   "name": "python",
   "nbconvert_exporter": "python",
   "pygments_lexer": "ipython3",
   "version": "3.11.5"
  }
 },
 "nbformat": 4,
 "nbformat_minor": 5
}
