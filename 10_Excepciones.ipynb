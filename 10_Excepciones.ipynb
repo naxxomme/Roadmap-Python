{
 "cells": [
  {
   "cell_type": "markdown",
   "id": "3bff567f-5bf5-42ac-aa52-7389b24804d2",
   "metadata": {},
   "source": [
    "## Ejercicio:\n",
    "Explora el concepto de manejo de excepciones según tu lenguaje.<br>\n",
    "Fuerza un error en tu código, captura el error, imprime dicho error<br>\n",
    "y evita que el programa se detenga de manera inesperada.<br>\n",
    "Prueba a dividir \"10/0\" o a acceder a un índice no existente<br>\n",
    "de un listado para intentar provocar un error."
   ]
  },
  {
   "cell_type": "code",
   "execution_count": 1,
   "id": "0423f780-c5da-49cd-97f0-8bd69f806ff5",
   "metadata": {
    "tags": []
   },
   "outputs": [
    {
     "name": "stdout",
     "output_type": "stream",
     "text": [
      "Se ha producido un error: division by zero (ZeroDivisionError)\n"
     ]
    }
   ],
   "source": [
    "try:\n",
    "    print(10/0)\n",
    "    print([1, 2, 3, 4][4])\n",
    "except Exception as e:\n",
    "    print(f\"Se ha producido un error: {e} ({type(e).__name__})\")"
   ]
  },
  {
   "cell_type": "markdown",
   "id": "2eeb094e-3a59-4097-a4a5-62ef323e9dbe",
   "metadata": {},
   "source": [
    "## Extra:"
   ]
  },
  {
   "cell_type": "code",
   "execution_count": 2,
   "id": "55c2c7b1-4d90-4a73-a111-6d4c3a32b473",
   "metadata": {
    "tags": []
   },
   "outputs": [],
   "source": [
    "class StrTypeError(Exception):\n",
    "    pass"
   ]
  },
  {
   "cell_type": "code",
   "execution_count": 9,
   "id": "1814604b-af7f-4c89-bd9e-3646f5f4eafa",
   "metadata": {
    "tags": []
   },
   "outputs": [],
   "source": [
    "def process_params(parameters: list):\n",
    "\n",
    "    if len(parameters) < 3:\n",
    "        raise IndexError()\n",
    "    elif parameters[1] == 0:\n",
    "        raise ZeroDivisionError()\n",
    "    elif type(parameters[2]) == str:\n",
    "        raise StrTypeError(\n",
    "            \"El tercer elemento no puede ser una cadena de texto.\")\n",
    "    \n",
    "    print(parameters[2])\n",
    "    print(parameters[0]/parameters[1])\n",
    "    print(parameters[2] + 5)"
   ]
  },
  {
   "cell_type": "code",
   "execution_count": 10,
   "id": "7d3e538a-4c89-4d71-ab23-3297d6ae7b14",
   "metadata": {
    "tags": []
   },
   "outputs": [
    {
     "name": "stdout",
     "output_type": "stream",
     "text": [
      "3\n",
      "0.5\n",
      "8\n",
      "No se ha producido ningún error.\n",
      "El programa finaliza sin detenerse.\n"
     ]
    }
   ],
   "source": [
    "\n",
    "try:\n",
    "    process_params([1, 2, 3, 4])\n",
    "except IndexError as e:\n",
    "    print(\"El número de elementos de la lista debe ser mayor que dos.\")\n",
    "except ZeroDivisionError as e:\n",
    "    print(\"El segundo elemento de la lista no puede ser un cero.\")\n",
    "except StrTypeError as e:\n",
    "    print(f\"{e}\")\n",
    "except Exception as e:\n",
    "    print(f\"Se ha producido un error inesperado: {e}\")\n",
    "else:\n",
    "    print(\"No se ha producido ningún error.\")\n",
    "finally:\n",
    "    print(\"El programa finaliza sin detenerse.\")"
   ]
  },
  {
   "cell_type": "code",
   "execution_count": null,
   "id": "0223e714-8b1c-4b66-86aa-82e1f9d39291",
   "metadata": {},
   "outputs": [],
   "source": []
  }
 ],
 "metadata": {
  "kernelspec": {
   "display_name": "Python 3 (ipykernel)",
   "language": "python",
   "name": "python3"
  },
  "language_info": {
   "codemirror_mode": {
    "name": "ipython",
    "version": 3
   },
   "file_extension": ".py",
   "mimetype": "text/x-python",
   "name": "python",
   "nbconvert_exporter": "python",
   "pygments_lexer": "ipython3",
   "version": "3.11.5"
  }
 },
 "nbformat": 4,
 "nbformat_minor": 5
}
