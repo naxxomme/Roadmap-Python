{
 "cells": [
  {
   "cell_type": "markdown",
   "id": "9c4f216c-374e-46d5-8a51-7ee3f47e8c4f",
   "metadata": {},
   "source": [
    "## Ejercicio:\n",
    "- Muestra ejemplos de creación de todas las estructuras soportadas por defecto en tu lenguaje.\n",
    "- Utiliza operaciones de inserción, borrado, actualización y ordenación."
   ]
  },
  {
   "cell_type": "markdown",
   "id": "167267ff-d126-445a-8656-9a8e5550cd4c",
   "metadata": {},
   "source": [
    "#### LISTAS:"
   ]
  },
  {
   "cell_type": "code",
   "execution_count": 3,
   "id": "70282d3a-cb55-4584-a507-650aecb12a3d",
   "metadata": {
    "tags": []
   },
   "outputs": [
    {
     "name": "stdout",
     "output_type": "stream",
     "text": [
      "['Morwonn', 'ElYoya', 'Fresquito', 'Supadupa', 'Alvarito']\n",
      "['Morwonn', 'ElYoya', 'Fresquito', 'Supadupa', 'Alvarito', 'Melzhet', 'Naxx']\n",
      "['Morwonn', 'ElYoya', 'Fresquito', 'Supadupa', 'Alvarito', 'Melzhet']\n",
      "Fresquito\n",
      "['Morwonn', 'ElYoya', 'Fresskowy', 'Supadupa', 'Alvarito', 'Melzhet']\n",
      "['Alvarito', 'ElYoya', 'Fresskowy', 'Melzhet', 'Morwonn', 'Supadupa']\n",
      "<class 'list'>\n"
     ]
    }
   ],
   "source": [
    "my_list: list = [\"Morwonn\", \"ElYoya\", \"Fresquito\", \"Supadupa\", \"Alvarito\"]\n",
    "print(my_list)\n",
    "my_list.append(\"Melzhet\")  # Inserción\n",
    "my_list.append(\"Naxx\")\n",
    "print(my_list)\n",
    "my_list.remove(\"Naxx\")  # Eliminación\n",
    "print(my_list)\n",
    "print(my_list[2])  # Acceso\n",
    "my_list[2] = \"Fresskowy\"  # Actualización\n",
    "print(my_list)\n",
    "my_list.sort()  # Ordenación\n",
    "print(my_list)\n",
    "print(type(my_list))"
   ]
  },
  {
   "cell_type": "markdown",
   "id": "df73c622-349a-4397-9679-28d0f7076d46",
   "metadata": {
    "tags": []
   },
   "source": [
    "#### TUPLAS:"
   ]
  },
  {
   "cell_type": "code",
   "execution_count": 6,
   "id": "afbc28ac-7b40-4285-9d9d-2b59704861e8",
   "metadata": {
    "tags": []
   },
   "outputs": [
    {
     "name": "stdout",
     "output_type": "stream",
     "text": [
      "Biyin\n",
      "24\n",
      "('24', '@naxx', 'Biyin', 'KOI')\n",
      "<class 'tuple'>\n"
     ]
    }
   ],
   "source": [
    "my_tuple: tuple = (\"KOI\", \"Biyin\", \"@naxx\", \"24\")\n",
    "print(my_tuple[1])  # Acceso\n",
    "print(my_tuple[3])\n",
    "my_tuple = tuple(sorted(my_tuple))  # Ordenación\n",
    "print(my_tuple)\n",
    "print(type(my_tuple))"
   ]
  },
  {
   "cell_type": "markdown",
   "id": "23a65b91-53e3-4b3e-8dda-95a36ee3647f",
   "metadata": {},
   "source": [
    "#### SETS:"
   ]
  },
  {
   "cell_type": "code",
   "execution_count": 7,
   "id": "b004a29f-9bc8-4a62-987b-d2fc21f5af8b",
   "metadata": {
    "tags": []
   },
   "outputs": [
    {
     "name": "stdout",
     "output_type": "stream",
     "text": [
      "{'@naxx', 'KOI', 'Biyin', '24'}\n",
      "{'24', 'naxxome@gmail.com', '@naxx', 'Biyin', 'KOI'}\n",
      "{'24', 'naxxome@gmail.com', '@naxx', 'KOI'}\n",
      "{'KOI', '@naxx', '24', 'naxxome@gmail.com'}\n",
      "<class 'set'>\n"
     ]
    }
   ],
   "source": [
    "my_set: set = {\"KOI\", \"Biyin\", \"@naxx\", \"24\"}\n",
    "print(my_set)\n",
    "my_set.add(\"naxxome@gmail.com\")  # Inserción\n",
    "my_set.add(\"naxxome@gmail.com\")\n",
    "print(my_set)\n",
    "my_set.remove(\"Biyin\")  # Eliminación\n",
    "print(my_set)\n",
    "my_set = set(sorted(my_set))  # No se puede ordenar\n",
    "print(my_set)\n",
    "print(type(my_set))"
   ]
  },
  {
   "cell_type": "markdown",
   "id": "f631e169-7042-407d-b855-09079cb723cf",
   "metadata": {
    "tags": []
   },
   "source": [
    "#### DICCIONARIOS:"
   ]
  },
  {
   "cell_type": "code",
   "execution_count": 9,
   "id": "8bf2718d-ef32-4c6d-867b-8734d2c58bbc",
   "metadata": {
    "tags": []
   },
   "outputs": [
    {
     "name": "stdout",
     "output_type": "stream",
     "text": [
      "{'name': 'Adrian', 'surname': 'Arroyo', 'alias': '@naxx', 'age': '23', 'email': 'naxxome@gmail.com'}\n",
      "{'name': 'Adrian', 'alias': '@naxx', 'age': '23', 'email': 'naxxome@gmail.com'}\n",
      "Adrian\n",
      "{'name': 'Adrian', 'alias': '@naxx', 'age': '24', 'email': 'naxxome@gmail.com'}\n",
      "{'age': '24', 'alias': '@naxx', 'email': 'naxxome@gmail.com', 'name': 'Adrian'}\n",
      "<class 'dict'>\n"
     ]
    }
   ],
   "source": [
    "my_dict: dict = {\n",
    "    \"name\": \"Adrian\",\n",
    "    \"surname\": \"Arroyo\",\n",
    "    \"alias\": \"@naxx\",\n",
    "    \"age\": \"23\"\n",
    "}\n",
    "my_dict[\"email\"] = \"naxxome@gmail.com\"  # Inserción\n",
    "print(my_dict)\n",
    "del my_dict[\"surname\"]  # Eliminación\n",
    "print(my_dict)\n",
    "print(my_dict[\"name\"])  # Acceso\n",
    "my_dict[\"age\"] = \"24\"  # Actualización\n",
    "print(my_dict)\n",
    "my_dict = dict(sorted(my_dict.items()))  # Ordenación\n",
    "print(my_dict)\n",
    "print(type(my_dict))"
   ]
  },
  {
   "cell_type": "markdown",
   "id": "39c4a741-7f8c-4c56-a9b9-cfc8fb3b8586",
   "metadata": {},
   "source": [
    "## Ejercicio Extra:\n",
    "- Crea una agenda de contactos por terminal.<br>\n",
    "Debes implementar funcionalidades de búsqueda, inserción, actualización y eliminación de contactos.<br>\n",
    "Cada contacto debe tener un nombre y un número de teléfono.<br>\n",
    "El programa solicita en primer lugar cuál es la operación que se quiere realizar, y a continuación<br>\n",
    "los datos necesarios para llevarla a cabo.<br>\n",
    "El programa no puede dejar introducir números de teléfono no numéricos y con más de 11 dígitos.<br>\n",
    "También se debe proponer una operación de finalización del programa."
   ]
  },
  {
   "cell_type": "code",
   "execution_count": 20,
   "id": "0267a233-5d05-44c7-856e-ffb7cd75ed1b",
   "metadata": {
    "tags": []
   },
   "outputs": [
    {
     "name": "stdout",
     "output_type": "stream",
     "text": [
      "\n",
      "1. Buscar contacto\n",
      "2. Insertar contacto\n",
      "3. Actualizar contacto\n",
      "4. Eliminar contacto\n",
      "5. Salir\n"
     ]
    },
    {
     "name": "stdin",
     "output_type": "stream",
     "text": [
      "\n",
      "Selecciona una opción:  1\n",
      "Introduce el nombre del contacto a buscar:  adrian\n"
     ]
    },
    {
     "name": "stdout",
     "output_type": "stream",
     "text": [
      "El contacto adrian no existe.\n",
      "\n",
      "1. Buscar contacto\n",
      "2. Insertar contacto\n",
      "3. Actualizar contacto\n",
      "4. Eliminar contacto\n",
      "5. Salir\n"
     ]
    },
    {
     "name": "stdin",
     "output_type": "stream",
     "text": [
      "\n",
      "Selecciona una opción:  2\n",
      "Introduce el nombre del contacto:  adrian\n",
      "Introduce el teléfono del contacto:  697\n"
     ]
    },
    {
     "name": "stdout",
     "output_type": "stream",
     "text": [
      "\n",
      "1. Buscar contacto\n",
      "2. Insertar contacto\n",
      "3. Actualizar contacto\n",
      "4. Eliminar contacto\n",
      "5. Salir\n"
     ]
    },
    {
     "name": "stdin",
     "output_type": "stream",
     "text": [
      "\n",
      "Selecciona una opción:  1\n",
      "Introduce el nombre del contacto a buscar:  adrian\n"
     ]
    },
    {
     "name": "stdout",
     "output_type": "stream",
     "text": [
      "El número de teléfono de adrian es 697.\n",
      "\n",
      "1. Buscar contacto\n",
      "2. Insertar contacto\n",
      "3. Actualizar contacto\n",
      "4. Eliminar contacto\n",
      "5. Salir\n"
     ]
    },
    {
     "name": "stdin",
     "output_type": "stream",
     "text": [
      "\n",
      "Selecciona una opción:  5\n"
     ]
    },
    {
     "name": "stdout",
     "output_type": "stream",
     "text": [
      "Saliendo de la agenda.\n"
     ]
    }
   ],
   "source": [
    "def my_agenda():\n",
    "\n",
    "    agenda = {}\n",
    "\n",
    "    def insert_contact():\n",
    "        phone = input(\"Introduce el teléfono del contacto: \")\n",
    "        if phone.isdigit() and len(phone) > 0 and len(phone) <= 11:\n",
    "            agenda[name] = phone\n",
    "        else:\n",
    "            print(\n",
    "                \"Debes introducir un número de teléfono un máximo de 11 dígitos.\")\n",
    "\n",
    "    while True:\n",
    "\n",
    "        print(\"\")\n",
    "        print(\"1. Buscar contacto\")\n",
    "        print(\"2. Insertar contacto\")\n",
    "        print(\"3. Actualizar contacto\")\n",
    "        print(\"4. Eliminar contacto\")\n",
    "        print(\"5. Salir\")\n",
    "\n",
    "        option = input(\"\\nSelecciona una opción: \")\n",
    "\n",
    "        match option:\n",
    "            case \"1\":\n",
    "                name = input(\"Introduce el nombre del contacto a buscar: \")\n",
    "                if name in agenda:\n",
    "                    print(\n",
    "                        f\"El número de teléfono de {name} es {agenda[name]}.\")\n",
    "                else:\n",
    "                    print(f\"El contacto {name} no existe.\")\n",
    "            case \"2\":\n",
    "                name = input(\"Introduce el nombre del contacto: \")\n",
    "                insert_contact()\n",
    "            case \"3\":\n",
    "                name = input(\"Introduce el nombre del contacto a actualizar: \")\n",
    "                if name in agenda:\n",
    "                    insert_contact()\n",
    "                else:\n",
    "                    print(f\"El contacto {name} no existe.\")\n",
    "            case \"4\":\n",
    "                name = input(\"Introduce el nombre del contacto a a eliminar: \")\n",
    "                if name in agenda:\n",
    "                    del agenda[name]\n",
    "                else:\n",
    "                    print(f\"El contacto {name} no existe.\")\n",
    "            case \"5\":\n",
    "                print(\"Saliendo de la agenda.\")\n",
    "                break\n",
    "            case _:\n",
    "                print(\"Opción no válida. Elige una opción del 1 al 5.\")\n",
    "\n",
    "\n",
    "my_agenda()"
   ]
  },
  {
   "cell_type": "code",
   "execution_count": null,
   "id": "41116aa0-32da-40b2-aaa4-837d5832cbc0",
   "metadata": {},
   "outputs": [],
   "source": []
  }
 ],
 "metadata": {
  "kernelspec": {
   "display_name": "Python 3 (ipykernel)",
   "language": "python",
   "name": "python3"
  },
  "language_info": {
   "codemirror_mode": {
    "name": "ipython",
    "version": 3
   },
   "file_extension": ".py",
   "mimetype": "text/x-python",
   "name": "python",
   "nbconvert_exporter": "python",
   "pygments_lexer": "ipython3",
   "version": "3.11.5"
  }
 },
 "nbformat": 4,
 "nbformat_minor": 5
}
