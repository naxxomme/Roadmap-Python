{
 "cells": [
  {
   "cell_type": "markdown",
   "id": "84e081d4-1e5b-4dd1-a147-83fecc5a0586",
   "metadata": {
    "tags": []
   },
   "source": [
    "## Ejercicio:\n",
    "- Crea ejemplos utilizando todos los tipos de operadores de tu lenguaje: aritméticos, lógicos, de comparación, asignación, identidad, presencia, bits...\n",
    "- Utilizando las operaciones con operadores que tú quieras, crea ejemplos que representen todos los tipos de estructuras de control que existan: condicionales, iterativas, excepciones...\n",
    "- Debes hacer print por consola del resultado de todos los ejemplos."
   ]
  },
  {
   "cell_type": "markdown",
   "id": "8dd87793-7303-4fb0-b0de-003b5f2cf021",
   "metadata": {
    "tags": []
   },
   "source": [
    "#### OPERADORES:"
   ]
  },
  {
   "cell_type": "code",
   "execution_count": 11,
   "id": "d41bf4d2-2398-48d2-8dd4-e50aa468b37d",
   "metadata": {
    "tags": []
   },
   "outputs": [
    {
     "name": "stdout",
     "output_type": "stream",
     "text": [
      "Suma: 10 + 3 = 13\n",
      "Resta: 10 - 3 = 7\n",
      "Multiplicación: 10 * 3 = 30\n",
      "División: 10 / 3 = 3.3333333333333335\n",
      "Módulo: 10 % 3 = 1\n",
      "Exponente: 10 ** 3 = 1000\n",
      "División entera: 10 // 3 = 3\n"
     ]
    }
   ],
   "source": [
    "# Aritméticos:\n",
    "\n",
    "print(f\"Suma: 10 + 3 = {10 + 3}\")\n",
    "print(f\"Resta: 10 - 3 = {10 - 3}\")\n",
    "print(f\"Multiplicación: 10 * 3 = {10 * 3}\")\n",
    "print(f\"División: 10 / 3 = {10 / 3}\")\n",
    "print(f\"Módulo: 10 % 3 = {10 % 3}\")\n",
    "print(f\"Exponente: 10 ** 3 = {10 ** 3}\")\n",
    "print(f\"División entera: 10 // 3 = {10 // 3}\")\n"
   ]
  },
  {
   "cell_type": "code",
   "execution_count": 4,
   "id": "3fe041ff-1bd7-43de-afbd-73d4ec43c332",
   "metadata": {
    "tags": []
   },
   "outputs": [
    {
     "name": "stdout",
     "output_type": "stream",
     "text": [
      "Igualdad: 10 == 3 es False\n",
      "Desigualdad: 10 != 3 es True\n",
      "Mayor que: 10 > 3 es True\n",
      "Menor que: 10 < 3 es False\n",
      "Mayor o igual que: 10 >= 10 es True\n",
      "Menor o igual que: 10 <= 3 es False\n"
     ]
    }
   ],
   "source": [
    "# De comparación:\n",
    "print(f\"Igualdad: 10 == 3 es {10 == 3}\")\n",
    "print(f\"Desigualdad: 10 != 3 es {10 != 3}\")\n",
    "print(f\"Mayor que: 10 > 3 es {10 > 3}\")\n",
    "print(f\"Menor que: 10 < 3 es {10 < 3}\")\n",
    "print(f\"Mayor o igual que: 10 >= 10 es {10 >= 10}\")\n",
    "print(f\"Menor o igual que: 10 <= 3 es {10 <= 3}\")"
   ]
  },
  {
   "cell_type": "code",
   "execution_count": 5,
   "id": "2d4c9028-92db-41d7-96e1-4e67583ded7f",
   "metadata": {
    "tags": []
   },
   "outputs": [
    {
     "name": "stdout",
     "output_type": "stream",
     "text": [
      "AND &&: 10 + 3 == 13 and 5 - 1 == 4 es True\n",
      "OR ||: 10 + 3 == 13 or 5 - 1 == 4 es True\n",
      "NOT !: not 10 + 3 == 14 es True\n"
     ]
    }
   ],
   "source": [
    "# Lógicos:\n",
    "print(f\"AND &&: 10 + 3 == 13 and 5 - 1 == 4 es {10 + 3 == 13 and 5 - 1 == 4}\")\n",
    "print(f\"OR ||: 10 + 3 == 13 or 5 - 1 == 4 es {10 + 3 == 14 or 5 - 1 == 4}\")\n",
    "print(f\"NOT !: not 10 + 3 == 14 es {not 10 + 3 == 14}\")"
   ]
  },
  {
   "cell_type": "code",
   "execution_count": 6,
   "id": "c0e8f0e5-bc9f-4166-91cd-85bc351b576c",
   "metadata": {
    "tags": []
   },
   "outputs": [
    {
     "name": "stdout",
     "output_type": "stream",
     "text": [
      "11\n",
      "12\n",
      "11\n",
      "22\n",
      "11.0\n",
      "1.0\n",
      "1.0\n",
      "1.0\n"
     ]
    }
   ],
   "source": [
    "# De asignación:\n",
    "my_number = 11  # asignación\n",
    "print(my_number)\n",
    "my_number += 1  # suma y asignación\n",
    "print(my_number)\n",
    "my_number -= 1  # resta y asignación\n",
    "print(my_number)\n",
    "my_number *= 2  # multiplicación y asignación\n",
    "print(my_number)\n",
    "my_number /= 2  # división y asignación\n",
    "print(my_number)\n",
    "my_number %= 2  # módulo y asignación\n",
    "print(my_number)\n",
    "my_number **= 1  # exponente y asignación\n",
    "print(my_number)\n",
    "my_number //= 1  # división entera y asignación\n",
    "print(my_number)"
   ]
  },
  {
   "cell_type": "code",
   "execution_count": 7,
   "id": "ccd3812b-53b6-4166-b9e8-9980aff49c06",
   "metadata": {
    "tags": []
   },
   "outputs": [
    {
     "name": "stdout",
     "output_type": "stream",
     "text": [
      "my_number is my_new_number es True\n",
      "my_number is not my_new_number es False\n"
     ]
    }
   ],
   "source": [
    "# De identidad:\n",
    "my_new_number = my_number\n",
    "print(f\"my_number is my_new_number es {my_number is my_new_number}\")\n",
    "print(f\"my_number is not my_new_number es {my_number is not my_new_number}\")"
   ]
  },
  {
   "cell_type": "code",
   "execution_count": 14,
   "id": "2fb05861-c9a9-4da7-a879-b733534c27c9",
   "metadata": {
    "tags": []
   },
   "outputs": [
    {
     "name": "stdout",
     "output_type": "stream",
     "text": [
      "'o' in 'koi' = False\n",
      "'b' not in 'koi' = True\n"
     ]
    }
   ],
   "source": [
    "# De pertenencia:\n",
    "print(f\"'o' in 'koi' = {'o ' in 'koi'}\")\n",
    "print(f\"'b' not in 'koi' = {'b' not in 'koi'}\")"
   ]
  },
  {
   "cell_type": "code",
   "execution_count": 10,
   "id": "f5f1fe55-9731-4193-b7ea-cc89d85f2534",
   "metadata": {
    "tags": []
   },
   "outputs": [
    {
     "name": "stdout",
     "output_type": "stream",
     "text": [
      "AND: 10 & 3 = 2\n",
      "OR: 10 | 3 = 11\n",
      "XOR: 10 ^ 3 = 9\n",
      "NOT: ~10 = -11\n",
      "Desplazamiento a la derecha: 10 >> 2 = 2\n",
      "Desplazamiento a la izquierda: 10 << 2 = 40\n"
     ]
    }
   ],
   "source": [
    "# De bit\n",
    "a = 10  # 1010\n",
    "b = 3  # 0011\n",
    "print(f\"AND: 10 & 3 = {10 & 3}\")  # 0010\n",
    "print(f\"OR: 10 | 3 = {10 | 3}\")  # 1011\n",
    "print(f\"XOR: 10 ^ 3 = {10 ^ 3}\")  # 1001\n",
    "print(f\"NOT: ~10 = {~10}\")\n",
    "print(f\"Desplazamiento a la derecha: 10 >> 2 = {10 >> 2}\")  # 0010\n",
    "print(f\"Desplazamiento a la izquierda: 10 << 2 = {10 << 2}\")  # 101000"
   ]
  },
  {
   "cell_type": "markdown",
   "id": "cbdb7985-fe8e-420a-b969-50635eba618f",
   "metadata": {},
   "source": [
    "#### ESTRUCTURAS DE CONTROL:"
   ]
  },
  {
   "cell_type": "code",
   "execution_count": 15,
   "id": "c38e2e18-8663-42fc-a7ad-6be05d7c91a1",
   "metadata": {
    "tags": []
   },
   "outputs": [
    {
     "name": "stdout",
     "output_type": "stream",
     "text": [
      "my_string es 'KOI'\n"
     ]
    }
   ],
   "source": [
    "# Condicionales:\n",
    "my_string = \"KOI\"\n",
    "\n",
    "if my_string == \"Movistar KOI\":\n",
    "    print(\"my_string es 'Movistar KOI'\")\n",
    "elif my_string == \"KOI\":\n",
    "    print(\"my_string es 'KOI'\")\n",
    "else:\n",
    "    print(\"my_string no es 'Movistar KOI' ni 'KOI'\")"
   ]
  },
  {
   "cell_type": "code",
   "execution_count": 17,
   "id": "f3e50c75-2881-4e12-ba71-f01184ed4965",
   "metadata": {
    "tags": []
   },
   "outputs": [
    {
     "name": "stdout",
     "output_type": "stream",
     "text": [
      "0\n",
      "1\n",
      "2\n",
      "3\n",
      "4\n",
      "5\n",
      "6\n",
      "7\n",
      "8\n",
      "9\n",
      "10\n",
      "0\n",
      "1\n",
      "2\n",
      "3\n",
      "4\n",
      "5\n",
      "6\n",
      "7\n",
      "8\n",
      "9\n",
      "10\n"
     ]
    }
   ],
   "source": [
    "# Iterativas:\n",
    "\n",
    "# For:\n",
    "for i in range(11):\n",
    "    print(i)\n",
    "\n",
    "# While:   \n",
    "i = 0\n",
    "\n",
    "while i <= 10:\n",
    "    print(i)\n",
    "    i += 1"
   ]
  },
  {
   "cell_type": "code",
   "execution_count": 18,
   "id": "77f46897-d77c-4171-9824-7cac9d19b71e",
   "metadata": {
    "tags": []
   },
   "outputs": [
    {
     "name": "stdout",
     "output_type": "stream",
     "text": [
      "Se ha producido un error\n",
      "Ha finalizado el manejo de excepciones\n"
     ]
    }
   ],
   "source": [
    "# Manejo de excepciones:\n",
    "try:\n",
    "    print(10 / 0)\n",
    "except:\n",
    "    print(\"Se ha producido un error\")\n",
    "finally:\n",
    "    print(\"Ha finalizado el manejo de excepciones\")"
   ]
  },
  {
   "cell_type": "markdown",
   "id": "8ff8de9c-0273-49d7-b150-faff51936f4f",
   "metadata": {},
   "source": [
    "## Ejercicio Extra:\n",
    "- Crea un programa que imprima por consola todos los números comprendidos entre 10 y 55 (incluidos),<br>\n",
    "pares, y que no son ni el 16 ni múltiplos de 3."
   ]
  },
  {
   "cell_type": "code",
   "execution_count": 19,
   "id": "aa0c1884-23c9-4f06-9a88-4f4a561f148e",
   "metadata": {
    "tags": []
   },
   "outputs": [
    {
     "name": "stdout",
     "output_type": "stream",
     "text": [
      "10\n",
      "14\n",
      "20\n",
      "22\n",
      "26\n",
      "28\n",
      "32\n",
      "34\n",
      "38\n",
      "40\n",
      "44\n",
      "46\n",
      "50\n",
      "52\n"
     ]
    }
   ],
   "source": [
    "for number in range(10,56):\n",
    "    if number%2==0 and number!=16 and number%3!=0:\n",
    "        print(number)"
   ]
  }
 ],
 "metadata": {
  "kernelspec": {
   "display_name": "Python 3 (ipykernel)",
   "language": "python",
   "name": "python3"
  },
  "language_info": {
   "codemirror_mode": {
    "name": "ipython",
    "version": 3
   },
   "file_extension": ".py",
   "mimetype": "text/x-python",
   "name": "python",
   "nbconvert_exporter": "python",
   "pygments_lexer": "ipython3",
   "version": "3.11.5"
  }
 },
 "nbformat": 4,
 "nbformat_minor": 5
}
